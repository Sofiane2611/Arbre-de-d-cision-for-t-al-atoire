{
  "nbformat": 4,
  "nbformat_minor": 0,
  "metadata": {
    "colab": {
      "name": "Untitled10.ipynb",
      "provenance": []
    },
    "kernelspec": {
      "name": "python3",
      "display_name": "Python 3"
    }
  },
  "cells": [
    {
      "cell_type": "code",
      "metadata": {
        "id": "gTUzD9eFd-ex"
      },
      "source": [
        "import pandas as pd \r\n",
        "titanic=pd.read_csv(\"titanic-passengers.csv\", sep=\";\")\r\n",
        "\r\n",
        "\r\n",
        "#Preprocessing our data\r\n",
        "\r\n",
        "titanic['Age'] = titanic['Age'].fillna((titanic['Age'].mean()))\r\n",
        "titanic[\"Cabin\"].fillna('G6', inplace=True)\r\n",
        "titanic[\"Embarked\"] = titanic[\"Embarked\"].fillna('C')\r\n",
        "\r\n",
        "titanic = titanic.drop(columns = 'Name')\r\n",
        "titanic = titanic.drop(columns = 'PassengerId')\r\n",
        "\r\n",
        "titanic['Survived'].replace(['No','Yes'], [0,1], inplace=True)\r\n",
        "titanic['Sex'].replace(['male','female'], [0,1], inplace=True)\r\n",
        "titanic['Embarked'].replace(['S','C','Q'], [0,1,2], inplace=True)\r\n",
        "\r\n",
        "from sklearn.preprocessing import LabelEncoder\r\n",
        "encoder=LabelEncoder()\r\n",
        "titanic['Cabin']=encoder.fit_transform(titanic['Cabin'])\r\n",
        "titanic['Ticket']=encoder.fit_transform(titanic['Ticket'])\r\n",
        "\r\n",
        "\r\n",
        "titanic.head()"
      ],
      "execution_count": null,
      "outputs": []
    },
    {
      "cell_type": "code",
      "metadata": {
        "id": "Vsn5Bxr1eAE9"
      },
      "source": [
        "#importing relevant libraries\r\n",
        "from sklearn.model_selection import train_test_split\r\n",
        "from sklearn import tree   \r\n",
        "from sklearn.tree import DecisionTreeClassifier\r\n",
        "from sklearn.metrics import accuracy_score\r\n",
        "from sklearn.tree import export_graphviz\r\n",
        "import matplotlib.pyplot as plt\r\n",
        "\r\n",
        "#features extraction\r\n",
        "x= titanic.drop([\"Survived\", \"Cabin\", \"Ticket\", \"Embarked\"], axis=1)\r\n",
        "y= titanic[\"Survived\"]\r\n",
        "\r\n",
        "#splitting data\r\n",
        "x_train, x_test, y_train, y_test = train_test_split(x,y, test_size=0.20,random_state=10)\r\n",
        "\r\n",
        "#applying tree algorithm\r\n",
        "classifier = DecisionTreeClassifier()\r\n",
        "classifier.fit(x_train, y_train)   #fitting our model\r\n",
        "y_pred=classifier.predict(x_test)   # evaluating our model\r\n",
        "print(\"score:{}\".format(accuracy_score(y_test, y_pred)))"
      ],
      "execution_count": null,
      "outputs": []
    },
    {
      "cell_type": "code",
      "metadata": {
        "id": "gE8D7-qdeCFh"
      },
      "source": [
        "dot_titanic = tree.export_graphviz(classifier,out_file = 'tree.dot', feature_names=x_train.columns, max_depth=20, filled=True)\r\n",
        "\r\n",
        "image = plt.imread('tree.png')\r\n",
        "plt.figure(figsize=(70,70))\r\n",
        "plt.imshow(image)"
      ],
      "execution_count": null,
      "outputs": []
    },
    {
      "cell_type": "code",
      "metadata": {
        "id": "79ZgLNNieD-I"
      },
      "source": [
        "# drop 2 parameters (the sex)\r\n",
        "x1= titanic.drop([\"Survived\", \"Sex\", \"Cabin\", \"Embarked\"], axis=1)\r\n",
        "y1= titanic[\"Survived\"]\r\n",
        "\r\n",
        "x1_train, x1_test, y1_train, y1_test = train_test_split(x1,y1, test_size=0.20,random_state=10)\r\n",
        "\r\n",
        "classifier1 = DecisionTreeClassifier()\r\n",
        "classifier1.fit(x1_train, y1_train)   \r\n",
        "y1_pred = classifier1.predict(x1_test)   \r\n",
        "\r\n",
        "# drop 2 parameters (the age)\r\n",
        "x2= titanic.drop([\"Survived\", \"Age\", \"Cabin\", \"Embarked\"], axis=1)\r\n",
        "y2= titanic[\"Survived\"]\r\n",
        "\r\n",
        "x2_train, x2_test, y2_train, y2_test = train_test_split(x2,y2, test_size=0.20,random_state=10)\r\n",
        "\r\n",
        "classifier2 = DecisionTreeClassifier()\r\n",
        "classifier2.fit(x2_train, y2_train)   \r\n",
        "y2_pred = classifier2.predict(x2_test)     \r\n",
        "\r\n",
        "\r\n",
        "print(\"score without Sex is:{}\".format(accuracy_score(y1_test, y1_pred)))\r\n",
        "print(\"-----------------------------------------------------------------------------------\")\r\n",
        "print(\"score without age is:{}\".format(accuracy_score(y2_test, y2_pred)))"
      ],
      "execution_count": null,
      "outputs": []
    },
    {
      "cell_type": "code",
      "metadata": {
        "id": "dV-xzGegeGoO"
      },
      "source": [
        "x= titanic.drop([\"Survived\", \"Age\", \"Cabin\", \"Embarked\"], axis=1)\r\n",
        "y= titanic[\"Survived\"]\r\n",
        "\r\n",
        "\r\n",
        "x_train, x_test, y_train, y_test = train_test_split(x,y, test_size=0.20,random_state=10)\r\n",
        "\r\n",
        "from sklearn import datasets\r\n",
        "import pandas as pd\r\n",
        "from sklearn.model_selection import train_test_split\r\n",
        "from sklearn.ensemble import RandomForestClassifier #Importing Random Forest Classifier\r\n",
        "from sklearn import metrics  # Importing metrics to test accuracy\r\n",
        "\r\n",
        "clf=RandomForestClassifier(n_estimators=100)  #Creating a random forest with 100 decision trees\r\n",
        "clf.fit(x_train, y_train)  #Training our model\r\n",
        "y_pred=clf.predict(x_test)  #testing our model\r\n",
        "print(\"Accuracy:\", metrics.accuracy_score(y_test, y_pred))  #Measuring the accuracy of our model"
      ],
      "execution_count": null,
      "outputs": []
    },
    {
      "cell_type": "code",
      "metadata": {
        "id": "qXkhZ3nCeIjN"
      },
      "source": [
        ""
      ],
      "execution_count": null,
      "outputs": []
    }
  ]
}